{
 "cells": [
  {
   "cell_type": "code",
   "execution_count": null,
   "metadata": {},
   "outputs": [
    {
     "ename": "NameError",
     "evalue": "name 'height' is not defined",
     "output_type": "error",
     "traceback": [
      "\u001b[1;31m---------------------------------------------------------------------------\u001b[0m",
      "\u001b[1;31mNameError\u001b[0m                                 Traceback (most recent call last)",
      "Cell \u001b[1;32mIn [8], line 20\u001b[0m\n\u001b[0;32m     16\u001b[0m root\u001b[38;5;241m.\u001b[39mleft\u001b[38;5;241m.\u001b[39mleft \u001b[38;5;241m=\u001b[39m Node(\u001b[38;5;241m4\u001b[39m)\n\u001b[0;32m     17\u001b[0m root\u001b[38;5;241m.\u001b[39mleft\u001b[38;5;241m.\u001b[39mright \u001b[38;5;241m=\u001b[39m Node(\u001b[38;5;241m5\u001b[39m)\n\u001b[1;32m---> 20\u001b[0m \u001b[38;5;28mprint\u001b[39m(\u001b[38;5;124m\"\u001b[39m\u001b[38;5;124mHeight of the tree:\u001b[39m\u001b[38;5;124m\"\u001b[39m, \u001b[43mNode\u001b[49m\u001b[38;5;241;43m.\u001b[39;49m\u001b[43mheight\u001b[49m\u001b[43m(\u001b[49m\u001b[43mroot\u001b[49m\u001b[43m)\u001b[49m)\n",
      "Cell \u001b[1;32mIn [8], line 9\u001b[0m, in \u001b[0;36mNode.height\u001b[1;34m(root)\u001b[0m\n\u001b[0;32m      7\u001b[0m \u001b[38;5;28;01mif\u001b[39;00m root \u001b[38;5;129;01mis\u001b[39;00m \u001b[38;5;28;01mNone\u001b[39;00m:\n\u001b[0;32m      8\u001b[0m     \u001b[38;5;28;01mreturn\u001b[39;00m \u001b[38;5;241m0\u001b[39m\n\u001b[1;32m----> 9\u001b[0m left_height\u001b[38;5;241m=\u001b[39m\u001b[43mheight\u001b[49m(root\u001b[38;5;241m.\u001b[39mleft)\n\u001b[0;32m     10\u001b[0m right_height\u001b[38;5;241m=\u001b[39mheight(root\u001b[38;5;241m.\u001b[39mright)\n\u001b[0;32m     11\u001b[0m \u001b[38;5;28;01mreturn\u001b[39;00m \u001b[38;5;28mmax\u001b[39m(left_height,right_height)\u001b[38;5;241m+\u001b[39m\u001b[38;5;241m1\u001b[39m\n",
      "\u001b[1;31mNameError\u001b[0m: name 'height' is not defined"
     ]
    }
   ],
   "source": [
    "class Node:\n",
    "    def __init__(self, data):\n",
    "         self.data = data\n",
    "         self.left=None\n",
    "         self.right=None\n",
    "    def height(root):\n",
    "        if root is None:\n",
    "            return 0\n",
    "        left_height=height(root.left)\n",
    "        right_height=height(root.right)\n",
    "        return max(left_height,right_height)+1\n",
    "    \n",
    "if __name__ == \"__main__\":\n",
    "    root = Node(1)\n",
    "    root.left = Node(2)\n",
    "    root.right = Node(3)\n",
    "    root.left.left = Node(4)\n",
    "    root.left.right = Node(5)\n",
    "\n",
    "    \n",
    "    print(\"Height of the tree:\", Node.height(root))"
   ]
  }
 ],
 "metadata": {
  "kernelspec": {
   "display_name": "Python 3",
   "language": "python",
   "name": "python3"
  },
  "language_info": {
   "codemirror_mode": {
    "name": "ipython",
    "version": 3
   },
   "file_extension": ".py",
   "mimetype": "text/x-python",
   "name": "python",
   "nbconvert_exporter": "python",
   "pygments_lexer": "ipython3",
   "version": "3.9.13"
  }
 },
 "nbformat": 4,
 "nbformat_minor": 2
}
