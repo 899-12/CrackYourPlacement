{
 "cells": [
  {
   "cell_type": "code",
   "execution_count": null,
   "metadata": {
    "vscode": {
     "languageId": "plaintext"
    }
   },
   "outputs": [],
   "source": [
    "class TreeNode:\n",
    "    def __init__(self, val=0, left=None, right=None):\n",
    "        self.val = val\n",
    "        self.left = left\n",
    "        self.right = right\n",
    "\n",
    "class Solution:\n",
    "    def __init__(self):\n",
    "        self.diameter = 0  \n",
    "    \n",
    "    def diameterOfBinaryTree(self, root: TreeNode) -> int:\n",
    "        def height(root):\n",
    "            if root is None:\n",
    "                return 0  # Base case: if the node is None, its height is 0\n",
    "            \n",
    "            left_height = height(root.left)  # Recursively find the height of the left subtree\n",
    "            right_height = height(root.right)  # Recursively find the height of the right subtree\n",
    "            \n",
    "            # Update the diameter (longest path between any two nodes)\n",
    "            self.diameter = max(self.diameter, left_height + right_height)\n",
    "            \n",
    "            # Return the height of the current node\n",
    "            return max(left_height, right_height) + 1\n",
    "        \n",
    "        height(root)  # Start the recursion to calculate the height and diameter\n",
    "        return self.diameter  # Return the maximum diameter found\n",
    "\n",
    "\n",
    "if __name__ == \"__main__\":\n",
    "    # Create a sample binary tree\n",
    "    root = TreeNode(1)\n",
    "    root.left = TreeNode(2)\n",
    "    root.right = TreeNode(3)\n",
    "    root.left.left = TreeNode(4)\n",
    "    root.left.right = TreeNode(5)\n",
    "\n",
    "    # Initialize the Solution class and find the diameter\n",
    "    solution = Solution()\n",
    "    print(solution.diameterOfBinaryTree(root))"
   ]
  }
 ],
 "metadata": {
  "language_info": {
   "name": "python"
  }
 },
 "nbformat": 4,
 "nbformat_minor": 2
}
